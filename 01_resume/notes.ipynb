{
 "cells": [
  {
   "cell_type": "markdown",
   "metadata": {},
   "source": [
    "# Разбор резюме\n",
    "\n",
    "Рекрутерам и рекрутерским агенствам присылают резюме в формате pdf и docx. Чтобы вести базу кандидатов, из текстов нужно извлекать имя, возраст, контакты соискателя, предыдущий опыт, желаемую зарплату.\n",
    "\n",
    "В этом примере рассматриваются только стандартные резюме, сгенерированные сайтом HH. Вариативность таких текстов очень низкая, всё оформлено строго по шаблону. С помощью Yargy-парсера можно написать программу, которая работает с произвольными резюме, но эта задача выходит за рамки данного примера.\n",
    "\n",
    "![](thumb.png)"
   ]
  },
  {
   "cell_type": "markdown",
   "metadata": {},
   "source": [
    "# Data"
   ]
  },
  {
   "cell_type": "code",
   "execution_count": 1,
   "metadata": {},
   "outputs": [],
   "source": [
    "from glob import glob\n",
    "\n",
    "texts = []\n",
    "for path in glob('texts/*.txt'):\n",
    "    with open(path) as file:\n",
    "        text = file.read()\n",
    "        texts.append(text)\n",
    "        \n",
    "intros = [_[:700] for _ in texts]"
   ]
  },
  {
   "cell_type": "code",
   "execution_count": 2,
   "metadata": {
    "scrolled": false
   },
   "outputs": [
    {
     "name": "stdout",
     "output_type": "stream",
     "text": [
      "\n",
      "Мужчина, 46 лет, родился 23 марта 1970\n",
      "\n",
      "Проживает: Владикавказ\n",
      "Гражданство: Россия, есть разрешение на работу: Россия\n",
      "Не готов к переезду, не готов к командировкам\n",
      "\n",
      "Желаемая должность и зарплата\n",
      "дизайнер\n",
      "Маркетинг, реклама, PR\n",
      "\n",
      "• Печатная реклама\n",
      "• Арт директор\n",
      "• Дизайнер\n",
      "\n",
      "Занятость: полная занятость, частичная занятость\n",
      "График работы: полный день, гибкий график, удаленная работа\n",
      "Желательное время в пути до работы: не имеет значения\n",
      "\n",
      "25 000\n",
      "руб.\n",
      "\n",
      "Опыт работы — 24 года 10 месяцев\n",
      "Январь 2007 —\n",
      "настоящее время\n",
      "9 лет 9 месяцев\n",
      "\n",
      "Индивидуальное предпринимательство / частная практика /\n",
      "фриланс\n",
      "www.weblancer.net/users/voenerg/portfolio/\n",
      "\n",
      "дизайнер\n",
      "Разработка айдентики, POS-материалов, наружной рекл\n",
      "------------------------------\n",
      "\n",
      "Женщина, 25 лет, родилась 25 апреля 1991\n",
      "\n",
      "Проживает: Казань, м. Суконная слобода\n",
      "Гражданство: Россия, есть разрешение на работу: Россия\n",
      "Готова к переезду, готова к командировкам\n",
      "\n",
      "Желаемая должность и зарплата\n",
      "Менеджер-экономист\n",
      "Бухгалтерия, управленческий учет, финансы предприятия\n",
      "\n",
      "• Бюджетирование и планирование\n",
      "• Планово-экономическое управление\n",
      "• Финансовый менеджмент\n",
      "\n",
      "Занятость: полная занятость\n",
      "График работы: полный день\n",
      "Желательное время в пути до работы: не имеет значения\n",
      "\n",
      "35 000\n",
      "руб.\n",
      "\n",
      "Опыт работы — 5 лет 3 месяца\n",
      "Июнь 2015 —\n",
      "настоящее время\n",
      "1 год 4 месяца\n",
      "\n",
      "ООО \"ТД \"Керамик-Центр\"\n",
      "Республика Татарстан, kkcm.ru\n",
      "\n",
      "Старший экономист\n",
      "Ведение бюджета, БДР, БДДС, себестоимость, статистическ\n",
      "------------------------------\n",
      "\n",
      "Женщина, 21 год, родилась 31 января 1995\n",
      "\n",
      "Проживает: Волжский\n",
      "Гражданство: Россия, есть разрешение на работу: Россия\n",
      "Готова к переезду, готова к командировкам\n",
      "\n",
      "Желаемая должность и зарплата\n",
      "Начинающий специалист\n",
      "Начало карьеры, студенты\n",
      "\n",
      "• Маркетинг, Реклама, PR\n",
      "• Административный персонал\n",
      "• Туризм, Гостиницы, Рестораны\n",
      "\n",
      "Занятость: полная занятость\n",
      "График работы: полный день\n",
      "Желательное время в пути до работы: не имеет значения\n",
      "\n",
      "15 000\n",
      "руб.\n",
      "\n",
      "Образование\n",
      "Высшее\n",
      "\n",
      "2016 Волжский гуманитарный институт (филиал) Волгоградского\n",
      "государственного университета, Волжский\n",
      "Экономико -математический, Экология и природопользование\n",
      "\n",
      "Ключевые навыки\n",
      "Знание языков Русский — родной\n",
      "\n",
      "Английский — базовые знания\n",
      "------------------------------\n"
     ]
    }
   ],
   "source": [
    "from random import seed, sample\n",
    "\n",
    "seed(41)\n",
    "for text in sample(intros, 3):\n",
    "    print(text)\n",
    "    print('---' * 10)"
   ]
  },
  {
   "cell_type": "markdown",
   "metadata": {},
   "source": [
    "# Grammar"
   ]
  },
  {
   "cell_type": "code",
   "execution_count": 3,
   "metadata": {},
   "outputs": [],
   "source": [
    "import json\n",
    "\n",
    "from ipymarkup import (\n",
    "    AsciiMarkup,\n",
    "    show_markup as show_markup_\n",
    ")\n",
    "\n",
    "from yargy import (\n",
    "    Parser,\n",
    "    rule, or_, and_, not_\n",
    ")\n",
    "from yargy.predicates import (\n",
    "    eq, in_,\n",
    "    type, normalized,\n",
    "    dictionary,\n",
    "    gte, lte\n",
    ")\n",
    "from yargy.pipelines import (\n",
    "    pipeline,\n",
    "    morph_pipeline\n",
    ")\n",
    "from yargy.interpretation import (\n",
    "    fact,\n",
    "    attribute\n",
    ")\n",
    "from yargy.tokenizer import MorphTokenizer, EOL\n",
    "\n",
    "\n",
    "Intro = fact(\n",
    "    'Intro',\n",
    "    ['gender', 'age', 'birth', 'location',\n",
    "     attribute('citizenship').repeatable(),\n",
    "     attribute('permission').repeatable(),\n",
    "     'relocation', 'travel',\n",
    "     'position',\n",
    "     attribute('subspecializations').repeatable(),\n",
    "     'employment', 'schedule', 'commute',\n",
    "     'salary'\n",
    "    ]\n",
    ")\n",
    "\n",
    "\n",
    "INT = type('INT')\n",
    "COMMA = eq(',')\n",
    "COLON = eq(':')\n",
    "\n",
    "\n",
    "def show_markup(text, spans):\n",
    "    show_markup_(text, spans, AsciiMarkup)\n",
    "\n",
    "        \n",
    "def show_json(data):\n",
    "    print(json.dumps(data, indent=2, ensure_ascii=False))\n",
    "\n",
    "\n",
    "def show_matches(rule, *lines):\n",
    "    parser = Parser(rule)\n",
    "    for line in lines:\n",
    "        matches = parser.findall(line)\n",
    "        spans = [_.span for _ in matches]\n",
    "        show_markup(line, spans)"
   ]
  },
  {
   "cell_type": "markdown",
   "metadata": {},
   "source": [
    "## Gender"
   ]
  },
  {
   "cell_type": "code",
   "execution_count": 4,
   "metadata": {
    "scrolled": false
   },
   "outputs": [
    {
     "data": {
      "text/plain": [
       "мужчина, Мужчина, мужчину\n",
       "         -------         \n"
      ]
     },
     "metadata": {},
     "output_type": "display_data"
    },
    {
     "data": {
      "text/plain": [
       "Женщина\n",
       "-------\n"
      ]
     },
     "metadata": {},
     "output_type": "display_data"
    }
   ],
   "source": [
    "GENDERS = {\n",
    "    'Женщина': 'female',\n",
    "    'Мужчина': 'male'\n",
    "}\n",
    "\n",
    "GENDER = in_(GENDERS).interpretation(\n",
    "    Intro.gender.custom(GENDERS.get)\n",
    ")\n",
    "\n",
    "\n",
    "show_matches(\n",
    "    GENDER,\n",
    "    'мужчина, Мужчина, мужчину',\n",
    "    'Женщина'\n",
    ")"
   ]
  },
  {
   "cell_type": "markdown",
   "metadata": {},
   "source": [
    "## Age"
   ]
  },
  {
   "cell_type": "code",
   "execution_count": 5,
   "metadata": {},
   "outputs": [
    {
     "data": {
      "text/plain": [
       "21 год, 25 лет\n",
       "------  ------\n"
      ]
     },
     "metadata": {},
     "output_type": "display_data"
    }
   ],
   "source": [
    "AGE = rule(\n",
    "    INT,\n",
    "    normalized('год')\n",
    ")\n",
    "\n",
    "\n",
    "show_matches(\n",
    "    AGE,\n",
    "    '21 год, 25 лет'\n",
    ")"
   ]
  },
  {
   "cell_type": "markdown",
   "metadata": {},
   "source": [
    "## Birth"
   ]
  },
  {
   "cell_type": "code",
   "execution_count": 6,
   "metadata": {},
   "outputs": [
    {
     "data": {
      "text/plain": [
       "родился 21 февраля 1990\n",
       "-----------------------\n"
      ]
     },
     "metadata": {},
     "output_type": "display_data"
    },
    {
     "data": {
      "text/plain": [
       "родиться 32 сентябрь 2000\n"
      ]
     },
     "metadata": {},
     "output_type": "display_data"
    },
    {
     "data": {
      "text/plain": [
       "родилась 01 июля 1917\n",
       "---------------------\n"
      ]
     },
     "metadata": {},
     "output_type": "display_data"
    }
   ],
   "source": [
    "Date = fact(\n",
    "    'Date',\n",
    "    ['year', 'month', 'day']\n",
    ")\n",
    "\n",
    "\n",
    "AGE = rule(\n",
    "    INT.interpretation(\n",
    "        Intro.age.custom(int)\n",
    "    ),\n",
    "    normalized('год')\n",
    ")\n",
    "\n",
    "MONTHS = {\n",
    "    'январь': 1,\n",
    "    'февраль': 2,\n",
    "    'март': 3,\n",
    "    'апрель': 4,\n",
    "    'май': 5,\n",
    "    'июнь': 6,\n",
    "    'июль': 7,\n",
    "    'август': 8,\n",
    "    'сентябрь': 9,\n",
    "    'октябрь': 10,\n",
    "    'ноябрь': 11,\n",
    "    'декабрь': 12\n",
    "}\n",
    "\n",
    "MONTH_NAME = dictionary(\n",
    "    MONTHS\n",
    ").interpretation(\n",
    "    Date.month.normalized().custom(MONTHS.get)\n",
    ")\n",
    "\n",
    "DAY = and_(\n",
    "    gte(1),\n",
    "    lte(31)\n",
    ").interpretation(\n",
    "    Date.day.custom(int)\n",
    ")\n",
    "\n",
    "YEAR = and_(\n",
    "    gte(1900),\n",
    "    lte(2100)\n",
    ").interpretation(\n",
    "    Date.year.custom(int)\n",
    ")\n",
    "\n",
    "DATE = rule(\n",
    "    DAY,\n",
    "    MONTH_NAME,\n",
    "    YEAR\n",
    ").interpretation(\n",
    "    Date\n",
    ")\n",
    "\n",
    "BIRTH = rule(\n",
    "    normalized('родиться'),\n",
    "    DATE.interpretation(\n",
    "        Intro.birth\n",
    "    )\n",
    ")\n",
    "\n",
    "\n",
    "show_matches(\n",
    "    BIRTH,\n",
    "    'родился 21 февраля 1990',\n",
    "    'родиться 32 сентябрь 2000',\n",
    "    'родилась 01 июля 1917',\n",
    ")"
   ]
  },
  {
   "cell_type": "markdown",
   "metadata": {},
   "source": [
    "## Socdem"
   ]
  },
  {
   "cell_type": "code",
   "execution_count": 7,
   "metadata": {
    "scrolled": false
   },
   "outputs": [
    {
     "name": "stdout",
     "output_type": "stream",
     "text": [
      "Мужчина, 29 лет, родился 17 ноября 1986\n",
      "Женщина, 29 лет, родилась 2 марта 1987\n",
      "Мужчина, 34 года, родился 14 августа 1982\n",
      "Женщина, 36 лет, родилась 20 апреля 1980\n",
      "Мужчина, 45 лет, родился 16 марта 1971\n",
      "Женщина, 38 лет, родилась 2 мая 1978\n",
      "Женщина, 33 года, родилась 5 октября 1982\n",
      "Женщина, 26 лет, родилась 15 апреля 1990\n",
      "Женщина, 29 лет, родилась 14 мая 1987\n",
      "Мужчина, 33 года, родился 14 января 1983\n"
     ]
    }
   ],
   "source": [
    "SOCDEM = rule(\n",
    "    GENDER, COMMA,\n",
    "    AGE, COMMA,\n",
    "    BIRTH\n",
    ")\n",
    "\n",
    "\n",
    "parser = Parser(SOCDEM)\n",
    "seed(10)\n",
    "for text in sample(intros, 10):\n",
    "    for match in parser.findall(text):\n",
    "        start, stop = match.span\n",
    "        print(text[start:stop])"
   ]
  },
  {
   "cell_type": "markdown",
   "metadata": {},
   "source": [
    "## Location"
   ]
  },
  {
   "cell_type": "code",
   "execution_count": 8,
   "metadata": {},
   "outputs": [
    {
     "data": {
      "text/plain": [
       "(['Проспект Мира',\n",
       "  'Алма-Атинская',\n",
       "  'Нахимовский проспект',\n",
       "  'Парк Победы',\n",
       "  'Проспект свободы',\n",
       "  'Академгородок',\n",
       "  'Достоевская',\n",
       "  'Окружная',\n",
       "  'Партизанская',\n",
       "  'Козья слобода'],\n",
       " ['Старонижестеблиевская',\n",
       "  'Голицыно',\n",
       "  'Атаманская',\n",
       "  'Перевальск',\n",
       "  'Обоянь',\n",
       "  'Кораблино',\n",
       "  'Биробиджан',\n",
       "  'Ижевск',\n",
       "  'Чаплыгин',\n",
       "  'Куйбышево'])"
      ]
     },
     "execution_count": 8,
     "metadata": {},
     "output_type": "execute_result"
    }
   ],
   "source": [
    "# https://api.hh.ru/metro\n",
    "# https://api.hh.ru/areas\n",
    "\n",
    "def load_lines(path):\n",
    "    with open(path) as file:\n",
    "        for line in file:\n",
    "            yield line.rstrip('\\n')\n",
    "            \n",
    "            \n",
    "METRO_STATIONS = set(load_lines('dicts/metro.txt'))\n",
    "AREAS = set(load_lines('dicts/areas.txt'))\n",
    "seed(10)\n",
    "sample(sorted(METRO_STATIONS), 10), sample(sorted(AREAS), 10)"
   ]
  },
  {
   "cell_type": "code",
   "execution_count": 9,
   "metadata": {},
   "outputs": [
    {
     "data": {
      "text/plain": [
       "место проживания: Москва, м. Парк Победы\n",
       "                  ----------------------\n"
      ]
     },
     "metadata": {},
     "output_type": "display_data"
    },
    {
     "data": {
      "text/plain": [
       "Киев, м.Киевская\n",
       "----------------\n"
      ]
     },
     "metadata": {},
     "output_type": "display_data"
    },
    {
     "data": {
      "text/plain": [
       "Россия\n",
       "------\n"
      ]
     },
     "metadata": {},
     "output_type": "display_data"
    },
    {
     "data": {
      "text/plain": [
       "в Москве\n"
      ]
     },
     "metadata": {},
     "output_type": "display_data"
    },
    {
     "data": {
      "text/plain": [
       "м. парк победы\n"
      ]
     },
     "metadata": {},
     "output_type": "display_data"
    },
    {
     "data": {
      "text/plain": [
       "на м. Кропоткинской\n"
      ]
     },
     "metadata": {},
     "output_type": "display_data"
    }
   ],
   "source": [
    "Location = fact(\n",
    "    'Location',\n",
    "    ['area', 'metro']\n",
    ")\n",
    "\n",
    "\n",
    "METRO = rule(\n",
    "    'м', '.',\n",
    "    pipeline(METRO_STATIONS).interpretation(\n",
    "        Location.metro\n",
    "    )\n",
    ")\n",
    "\n",
    "AREA = pipeline(AREAS).interpretation(\n",
    "    Location.area\n",
    ")\n",
    "\n",
    "LOCATION = rule(\n",
    "    AREA,\n",
    "    rule(\n",
    "        COMMA,\n",
    "        METRO\n",
    "    ).optional()\n",
    ").interpretation(\n",
    "    Location\n",
    ")\n",
    "\n",
    "\n",
    "show_matches(\n",
    "    LOCATION,\n",
    "    'место проживания: Москва, м. Парк Победы',\n",
    "    'Киев, м.Киевская',\n",
    "    'Россия',\n",
    "    'в Москве',\n",
    "    'м. парк победы',\n",
    "    'на м. Кропоткинской',\n",
    ")"
   ]
  },
  {
   "cell_type": "code",
   "execution_count": 10,
   "metadata": {},
   "outputs": [
    {
     "name": "stdout",
     "output_type": "stream",
     "text": [
      "Проживает: Санкт-Петербург\n",
      "Проживает: Вологда\n",
      "Проживает: Новосибирск, м. площадь Карла Маркса\n",
      "Проживает: Йошкар-Ола\n",
      "Проживает: Тюмень\n",
      "Проживает: Туапсе\n",
      "Проживает: Нефтеюганск\n",
      "Проживает: Москва\n",
      "Проживает: Псков\n",
      "Проживает: Омск\n"
     ]
    }
   ],
   "source": [
    "TITLE = rule(\n",
    "    normalized('проживает'), COLON\n",
    ")\n",
    "\n",
    "LIVES_AT = rule(\n",
    "    TITLE,\n",
    "    LOCATION\n",
    ")\n",
    "\n",
    "\n",
    "parser = Parser(LIVES_AT)\n",
    "seed(10)\n",
    "for text in sample(intros, 10):\n",
    "    for match in parser.findall(text):\n",
    "        start, stop = match.span\n",
    "        print(text[start:stop])"
   ]
  },
  {
   "cell_type": "markdown",
   "metadata": {},
   "source": [
    "## Citizenship"
   ]
  },
  {
   "cell_type": "code",
   "execution_count": 11,
   "metadata": {},
   "outputs": [
    {
     "data": {
      "text/plain": [
       "Гражданство: Россия, Франция\n",
       "----------------------------\n"
      ]
     },
     "metadata": {},
     "output_type": "display_data"
    },
    {
     "data": {
      "text/plain": [
       "Гражданство: Россия, Франция, Украина\n",
       "----------------------------         \n"
      ]
     },
     "metadata": {},
     "output_type": "display_data"
    }
   ],
   "source": [
    "TITLE = rule(\n",
    "    'Гражданство', COLON\n",
    ")\n",
    "\n",
    "ITEM = AREA.interpretation(\n",
    "    Intro.citizenship\n",
    ")\n",
    "\n",
    "LOCATIONS = rule(\n",
    "    ITEM,\n",
    "    rule(\n",
    "        COMMA,\n",
    "        ITEM\n",
    "    ).optional()\n",
    ")\n",
    "\n",
    "CITIZENSHIP = rule(\n",
    "    TITLE,\n",
    "    LOCATIONS\n",
    ")\n",
    "\n",
    "\n",
    "show_matches(\n",
    "    CITIZENSHIP,\n",
    "    'Гражданство: Россия, Франция',\n",
    "    'Гражданство: Россия, Франция, Украина',\n",
    ")"
   ]
  },
  {
   "cell_type": "markdown",
   "metadata": {},
   "source": [
    "## Permission"
   ]
  },
  {
   "cell_type": "code",
   "execution_count": 12,
   "metadata": {},
   "outputs": [
    {
     "data": {
      "text/plain": [
       "есть разрешение на работу: Россия, Франция, Украина\n",
       "---------------------------------------------------\n"
      ]
     },
     "metadata": {},
     "output_type": "display_data"
    },
    {
     "data": {
      "text/plain": [
       "есть разрешение на работу: Россия\n",
       "---------------------------------\n"
      ]
     },
     "metadata": {},
     "output_type": "display_data"
    }
   ],
   "source": [
    "TITLE = pipeline([\n",
    "    'есть разрешение на работу:'\n",
    "])\n",
    "\n",
    "ITEM = AREA.interpretation(\n",
    "    Intro.permission\n",
    ")\n",
    "\n",
    "LOCATIONS = rule(\n",
    "    ITEM,\n",
    "    rule(\n",
    "        COMMA,\n",
    "        ITEM\n",
    "    ).optional().repeatable()\n",
    ")\n",
    "\n",
    "PERMISSION = rule(\n",
    "    TITLE,\n",
    "    LOCATIONS\n",
    ")\n",
    "\n",
    "\n",
    "show_matches(\n",
    "    PERMISSION,\n",
    "    'есть разрешение на работу: Россия, Франция, Украина',\n",
    "    'есть разрешение на работу: Россия',\n",
    ")"
   ]
  },
  {
   "cell_type": "markdown",
   "metadata": {},
   "source": [
    "## Relocation"
   ]
  },
  {
   "cell_type": "code",
   "execution_count": 13,
   "metadata": {},
   "outputs": [
    {
     "data": {
      "text/plain": [
       "готов к переезду\n",
       "----------------\n"
      ]
     },
     "metadata": {},
     "output_type": "display_data"
    },
    {
     "data": {
      "text/plain": [
       "не готова к переезду\n",
       "--------------------\n"
      ]
     },
     "metadata": {},
     "output_type": "display_data"
    },
    {
     "data": {
      "text/plain": [
       "готова к переезду: Россия, Украина, СНГ\n",
       "----------------------------------     \n"
      ]
     },
     "metadata": {},
     "output_type": "display_data"
    },
    {
     "data": {
      "text/plain": [
       "хочу переехать: Франция\n",
       "-----------------------\n"
      ]
     },
     "metadata": {},
     "output_type": "display_data"
    }
   ],
   "source": [
    "Relocation = fact(\n",
    "    'Relocation',\n",
    "    ['ready', attribute('where').repeatable()]\n",
    ")\n",
    "\n",
    "TYPES = {\n",
    "    'готов к переезду': True,\n",
    "    'хочу переехать': True,\n",
    "    'не готов к переезду': False\n",
    "}\n",
    "\n",
    "IS_READY = morph_pipeline(TYPES).interpretation(\n",
    "    Relocation.ready.normalized().custom(TYPES.get)\n",
    ")\n",
    "\n",
    "ITEM = AREA.interpretation(\n",
    "    Relocation.where\n",
    ")\n",
    "\n",
    "LOCATIONS = rule(\n",
    "    ITEM,\n",
    "    rule(\n",
    "        COMMA,\n",
    "        ITEM\n",
    "    ).optional().repeatable()\n",
    ")\n",
    "\n",
    "RELOCATION = rule(\n",
    "    IS_READY,\n",
    "    rule(\n",
    "        COLON,\n",
    "        LOCATIONS\n",
    "    ).optional()\n",
    ").interpretation(\n",
    "    Relocation\n",
    ").interpretation(\n",
    "    Intro.relocation\n",
    ")\n",
    "\n",
    "\n",
    "show_matches(\n",
    "    RELOCATION,\n",
    "    'готов к переезду',\n",
    "    'не готова к переезду',\n",
    "    'готова к переезду: Россия, Украина, СНГ',\n",
    "    'хочу переехать: Франция',\n",
    ")"
   ]
  },
  {
   "cell_type": "markdown",
   "metadata": {},
   "source": [
    "## Travel"
   ]
  },
  {
   "cell_type": "code",
   "execution_count": 14,
   "metadata": {},
   "outputs": [
    {
     "data": {
      "text/plain": [
       "готова к командировкам\n",
       "----------------------\n"
      ]
     },
     "metadata": {},
     "output_type": "display_data"
    },
    {
     "data": {
      "text/plain": [
       "не готов к редким командировкам\n",
       "   ----------------------------\n"
      ]
     },
     "metadata": {},
     "output_type": "display_data"
    }
   ],
   "source": [
    "TYPES = {\n",
    "    'готов к командировкам': True,\n",
    "    'готов к редким командировкам': True,\n",
    "    'не готов к командировкам': False\n",
    "}\n",
    "\n",
    "TRAVEL = morph_pipeline(TYPES).interpretation(\n",
    "    Intro.travel.normalized().custom(TYPES.get)\n",
    ")\n",
    "\n",
    "\n",
    "show_matches(\n",
    "    TRAVEL,\n",
    "    'готова к командировкам',\n",
    "    'не готов к редким командировкам',\n",
    ")"
   ]
  },
  {
   "cell_type": "markdown",
   "metadata": {},
   "source": [
    "## Position"
   ]
  },
  {
   "cell_type": "code",
   "execution_count": 15,
   "metadata": {},
   "outputs": [
    {
     "data": {
      "text/plain": [
       "(['Продажи',\n",
       "  'Административный персонал',\n",
       "  'Консультирование',\n",
       "  'Медицина, фармацевтика',\n",
       "  'Юристы',\n",
       "  'Автомобильный бизнес',\n",
       "  'Государственная служба, некоммерческие организации',\n",
       "  'Маркетинг, реклама, PR',\n",
       "  'Транспорт, логистика',\n",
       "  'Домашний персонал'],\n",
       " ['Риски: рыночные',\n",
       "  'Тренерский состав',\n",
       "  'Делопроизводство',\n",
       "  'Администратор баз данных',\n",
       "  'Планирование, Размещение рекламы',\n",
       "  'Охранник',\n",
       "  'Кредиты: розничные',\n",
       "  'Банкеты',\n",
       "  'Информационные технологии, Интернет, Мультимедиа',\n",
       "  'Электроэнергетика'])"
      ]
     },
     "execution_count": 15,
     "metadata": {},
     "output_type": "execute_result"
    }
   ],
   "source": [
    "# https://api.hh.ru/specializations\n",
    "\n",
    "SPECIALIZATIONS = set(load_lines('dicts/specialization.txt'))\n",
    "SUBSPECIALIZATIONS = set(load_lines('dicts/subspecialization.txt'))\n",
    "\n",
    "seed(10)\n",
    "sample(sorted(SPECIALIZATIONS), 10), sample(sorted(SUBSPECIALIZATIONS), 10)"
   ]
  },
  {
   "cell_type": "code",
   "execution_count": 16,
   "metadata": {},
   "outputs": [
    {
     "name": "stdout",
     "output_type": "stream",
     "text": [
      "Желаемая должность и зарплата\n",
      "Супервайзер\n",
      "Продажи\n",
      "\n",
      "• Дистрибуция\n",
      "• Прямые продажи\n",
      "• Продукты питания\n",
      "---\n",
      "Желаемая должность и зарплата\n",
      "Продавец-консультант\n",
      "Продажи\n",
      "\n",
      "• Розничная торговля\n",
      "• Торговые сети\n",
      "• Продавец в магазине\n",
      "---\n",
      "Желаемая должность и зарплата\n",
      "Инженер по строительству  сотовой связи\n",
      "Информационные технологии, интернет, телеком\n",
      "\n",
      "• Передача данных и доступ в интернет\n",
      "• Сотовые, Беспроводные технологии\n",
      "• Телекоммуникации\n",
      "---\n",
      "Желаемая должность и зарплата\n",
      "Главный бухгалтер, заместитель главного бухгалтера\n",
      "Бухгалтерия, управленческий учет, финансы предприятия\n",
      "\n",
      "• Руководство бухгалтерией\n",
      "---\n",
      "Желаемая должность и зарплата\n",
      "Инженер по транспорту\n",
      "Транспорт, логистика\n",
      "\n",
      "• Автоперевозки\n",
      "---\n",
      "Желаемая должность и зарплата\n",
      "Директор магазина, заместитель директора\n",
      "Продажи\n",
      "\n",
      "• Розничная торговля\n",
      "• Торговые сети\n",
      "---\n",
      "Желаемая должность и зарплата\n",
      "Лаборант химического анализа\n",
      "Добыча сырья\n",
      "\n",
      "• Нефть\n",
      "• Газ\n",
      "---\n",
      "Желаемая должность и зарплата\n",
      "Администратор;  Помощник бухгалтера\n",
      "Бухгалтерия, управленческий учет, финансы предприятия\n",
      "\n",
      "• Учет счетов и платежей\n",
      "• Казначейство\n",
      "• Кассир, Инкассатор\n",
      "---\n",
      "Желаемая должность и зарплата\n",
      "мастер кузовного цеха\n",
      "Автомобильный бизнес\n",
      "\n",
      "• Сервисное обслуживание\n",
      "• Автозапчасти\n",
      "• Автожестянщик\n",
      "---\n"
     ]
    }
   ],
   "source": [
    "TITLE = pipeline([\n",
    "    'Желаемая должность и зарплата'\n",
    "])\n",
    "\n",
    "DOT = eq('•')\n",
    "\n",
    "SUBTITLE = not_(DOT).repeatable().interpretation(\n",
    "    Intro.position\n",
    ")\n",
    "\n",
    "SPECIALIZATION = pipeline(SPECIALIZATIONS)\n",
    "\n",
    "SUBSPECIALIZATION = pipeline(SUBSPECIALIZATIONS)\n",
    "\n",
    "ITEM = rule(\n",
    "    DOT,\n",
    "    or_(\n",
    "        SPECIALIZATION,\n",
    "        SUBSPECIALIZATION\n",
    "    ).interpretation(\n",
    "        Intro.subspecializations\n",
    "    )\n",
    ")\n",
    "\n",
    "POSITION = rule(\n",
    "    TITLE,\n",
    "    SUBTITLE,\n",
    "    ITEM.repeatable()\n",
    ")\n",
    "\n",
    "\n",
    "TOKENIZER = MorphTokenizer().remove_types(EOL)\n",
    "\n",
    "\n",
    "parser = Parser(POSITION, tokenizer=TOKENIZER)\n",
    "seed(10)\n",
    "for text in sample(intros, 10):\n",
    "    for match in parser.findall(text):\n",
    "        start, stop = match.span\n",
    "        print(text[start:stop])\n",
    "        print('---')"
   ]
  },
  {
   "cell_type": "markdown",
   "metadata": {},
   "source": [
    "## Employment"
   ]
  },
  {
   "cell_type": "code",
   "execution_count": 17,
   "metadata": {},
   "outputs": [
    {
     "data": {
      "text/plain": [
       "Занятость: полная, частичная\n",
       "----------------------------\n"
      ]
     },
     "metadata": {},
     "output_type": "display_data"
    },
    {
     "data": {
      "text/plain": [
       "Занятость: стажировка\n",
       "---------------------\n"
      ]
     },
     "metadata": {},
     "output_type": "display_data"
    }
   ],
   "source": [
    "TITLE = rule(\n",
    "    'Занятость', COLON\n",
    ")\n",
    "\n",
    "TYPES = {\n",
    "    'полная': 'full',\n",
    "    'полная занятость': 'full',\n",
    "    'частичная': 'part',\n",
    "    'частичная занятость': 'part',\n",
    "    'волонтерство': 'volunteer',\n",
    "    'стажировка': 'intern',\n",
    "    'проектная работа': 'project'\n",
    "    \n",
    "}\n",
    "\n",
    "TYPE = pipeline(TYPES).interpretation(\n",
    "    Intro.employment.normalized().custom(TYPES.get)\n",
    ")\n",
    "\n",
    "TYPES = rule(\n",
    "    TYPE,\n",
    "    rule(\n",
    "        COMMA,\n",
    "        TYPE\n",
    "    ).optional().repeatable()\n",
    ")\n",
    "\n",
    "EMPLOYMENT = rule(\n",
    "    TITLE,\n",
    "    TYPES\n",
    ")\n",
    "\n",
    "\n",
    "show_matches(\n",
    "    EMPLOYMENT,\n",
    "    'Занятость: полная, частичная',\n",
    "    'Занятость: стажировка',\n",
    ")"
   ]
  },
  {
   "cell_type": "markdown",
   "metadata": {},
   "source": [
    "## Schedule"
   ]
  },
  {
   "cell_type": "code",
   "execution_count": 18,
   "metadata": {},
   "outputs": [
    {
     "data": {
      "text/plain": [
       "График работы: полный день, удаленная работа\n",
       "--------------------------------------------\n"
      ]
     },
     "metadata": {},
     "output_type": "display_data"
    },
    {
     "data": {
      "text/plain": [
       "График работы: стажировка\n",
       "-------------------------\n"
      ]
     },
     "metadata": {},
     "output_type": "display_data"
    }
   ],
   "source": [
    "TITLE = pipeline([\n",
    "    'График работы:'\n",
    "])\n",
    "\n",
    "TYPES = {\n",
    "    'полный день': 'full',\n",
    "    'сменный график': 'part',\n",
    "    'вахтовый метод': 'vahta',\n",
    "    'гибкий график': 'flex',\n",
    "    'удаленная работа': 'remote',\n",
    "    'стажировка': 'intern'\n",
    "}\n",
    "\n",
    "TYPE = morph_pipeline(TYPES).interpretation(\n",
    "    Intro.schedule.normalized().custom(TYPES.get)\n",
    ")\n",
    "\n",
    "TYPES = rule(\n",
    "    TYPE,\n",
    "    rule(\n",
    "        COMMA,\n",
    "        TYPE\n",
    "    ).optional().repeatable()\n",
    ")\n",
    "\n",
    "SCHEDULE = rule(\n",
    "    TITLE,\n",
    "    TYPES\n",
    ")\n",
    "\n",
    "\n",
    "show_matches(\n",
    "    SCHEDULE,\n",
    "    'График работы: полный день, удаленная работа',\n",
    "    'График работы: стажировка',\n",
    ")"
   ]
  },
  {
   "cell_type": "markdown",
   "metadata": {},
   "source": [
    "## Commute"
   ]
  },
  {
   "cell_type": "code",
   "execution_count": 19,
   "metadata": {},
   "outputs": [
    {
     "data": {
      "text/plain": [
       "Желательное время в пути до работы: не более часа\n",
       "-------------------------------------------------\n"
      ]
     },
     "metadata": {},
     "output_type": "display_data"
    },
    {
     "data": {
      "text/plain": [
       "Желательное время в пути до работы: не имеет значения\n",
       "-----------------------------------------------------\n"
      ]
     },
     "metadata": {},
     "output_type": "display_data"
    }
   ],
   "source": [
    "TITLE = pipeline([\n",
    "    'Желательное время в пути до работы:',\n",
    "])\n",
    "\n",
    "TYPES = {\n",
    "    'не более часа': '<1h',\n",
    "    'не имеет значения': 'any',\n",
    "    'не более полутора часов': '<1h30m'\n",
    "}\n",
    "\n",
    "TYPE = pipeline(TYPES).interpretation(\n",
    "    Intro.commute.normalized().custom(TYPES.get)\n",
    ")\n",
    "\n",
    "COMMUTE = rule(\n",
    "    TITLE,\n",
    "    TYPE\n",
    ")\n",
    "\n",
    "\n",
    "show_matches(\n",
    "    COMMUTE,\n",
    "    'Желательное время в пути до работы: не более часа',\n",
    "    'Желательное время в пути до работы: не имеет значения',\n",
    ")"
   ]
  },
  {
   "cell_type": "markdown",
   "metadata": {},
   "source": [
    "## Money"
   ]
  },
  {
   "cell_type": "code",
   "execution_count": 20,
   "metadata": {},
   "outputs": [
    {
     "data": {
      "text/plain": [
       "1 500 руб.\n",
       "----------\n"
      ]
     },
     "metadata": {},
     "output_type": "display_data"
    },
    {
     "data": {
      "text/plain": [
       "1 000 000 грн.\n",
       "  ------------\n"
      ]
     },
     "metadata": {},
     "output_type": "display_data"
    },
    {
     "data": {
      "text/plain": [
       "5000 бел.руб.\n",
       "-------------\n"
      ]
     },
     "metadata": {},
     "output_type": "display_data"
    },
    {
     "data": {
      "text/plain": [
       "20 000 KGS\n",
       "----------\n"
      ]
     },
     "metadata": {},
     "output_type": "display_data"
    }
   ],
   "source": [
    "Money = fact(\n",
    "    'Money',\n",
    "    ['amount', 'currency']\n",
    ")\n",
    "\n",
    "\n",
    "CURRENCIES = {\n",
    "    'руб.': 'RUB',\n",
    "    'грн.': 'GRN',\n",
    "    'бел. руб.': 'BEL',\n",
    "    'RUB': 'RUB',\n",
    "    'EUR': 'EUR',\n",
    "    'KZT': 'KZT',\n",
    "    'USD': 'USD',\n",
    "    'KGS': 'KGS'\n",
    "}\n",
    "\n",
    "CURRENCY = pipeline(CURRENCIES).interpretation(\n",
    "    Money.currency.normalized().custom(CURRENCIES.get)\n",
    ")\n",
    "\n",
    "\n",
    "def normalize_amount(value):\n",
    "    return int(value.replace(' ', ''))\n",
    "\n",
    "\n",
    "AMOUNT = or_(\n",
    "    rule(INT),\n",
    "    rule(INT, INT),\n",
    ").interpretation(\n",
    "    Money.amount.custom(normalize_amount)\n",
    ")\n",
    "\n",
    "MONEY = rule(\n",
    "    AMOUNT,\n",
    "    CURRENCY\n",
    ").interpretation(\n",
    "    Money\n",
    ").interpretation(\n",
    "    Intro.salary\n",
    ")\n",
    "\n",
    "\n",
    "show_matches(\n",
    "    MONEY,\n",
    "    '1 500 руб.',\n",
    "    '1 000 000 грн.',\n",
    "    '5000 бел.руб.',\n",
    "    '20 000 KGS',\n",
    ")"
   ]
  },
  {
   "cell_type": "markdown",
   "metadata": {},
   "source": [
    "## Intro"
   ]
  },
  {
   "cell_type": "code",
   "execution_count": 21,
   "metadata": {
    "scrolled": false
   },
   "outputs": [
    {
     "data": {
      "text/plain": [
       " \n",
       "Мужчина, 29 лет, родился 17 ноября 1986 \n",
       "-------  --              -- ------ ---- \n",
       " \n",
       "Проживает: Санкт-Петербург \n",
       "Гражданство: Россия, есть разрешение на работу: Россия \n",
       "             ------                             ------ \n",
       "Не готов к переезду, не готов к командировкам \n",
       "-------------------  ------------------------ \n",
       " \n",
       "Желаемая должность и зарплата \n",
       "Супервайзер \n",
       "------------\n",
       "Продажи \n",
       "------- \n",
       " \n",
       "• Дистрибуция \n",
       "  ----------- \n",
       "• Прямые продажи \n",
       "  -------------- \n",
       "• Продукты питания \n",
       "  ---------------- \n",
       " \n",
       "Занятость: полная занятость \n",
       "           ---------------- \n",
       "График работы: полный день \n",
       "               ----------- \n",
       "Желательное время в пути до работы: не имеет значения \n",
       "                                    ----------------- \n",
       " \n",
       "40 000 \n",
       "------ \n",
       "руб. \n",
       "---- \n",
       " \n",
       "Опыт работы — 7 лет 8 месяцев \n",
       "Февраль 2016 — \n",
       "Июнь 2016 \n",
       "5 месяцев \n",
       " \n",
       "ЗАО Бастион/ООО ДК Северозапад \n",
       "Санкт-Петербург \n",
       " \n",
       "Менеджер \n",
       "Продажа стабилизаторов напряжения и компрессорного \n",
       "оборудования.Повысил навыки продаж, \n",
       "делового общения, знания в программе 1 С. Приобрёл опыт работы со \n",
       "стабилизаторами \n",
       "напряжения и\n"
      ]
     },
     "metadata": {},
     "output_type": "display_data"
    },
    {
     "name": "stdout",
     "output_type": "stream",
     "text": [
      "{\n",
      "  \"gender\": \"male\",\n",
      "  \"age\": 29,\n",
      "  \"birth\": {\n",
      "    \"year\": 1986,\n",
      "    \"month\": 11,\n",
      "    \"day\": 17\n",
      "  },\n",
      "  \"citizenship\": [\n",
      "    \"Россия\"\n",
      "  ],\n",
      "  \"permission\": [\n",
      "    \"Россия\"\n",
      "  ],\n",
      "  \"relocation\": {\n",
      "    \"ready\": false,\n",
      "    \"where\": []\n",
      "  },\n",
      "  \"travel\": false,\n",
      "  \"position\": \"Супервайзер Продажи\",\n",
      "  \"subspecializations\": [\n",
      "    \"Дистрибуция\",\n",
      "    \"Прямые продажи\",\n",
      "    \"Продукты питания\"\n",
      "  ],\n",
      "  \"employment\": \"full\",\n",
      "  \"schedule\": \"full\",\n",
      "  \"commute\": \"any\",\n",
      "  \"salary\": {\n",
      "    \"amount\": 40000,\n",
      "    \"currency\": \"RUB\"\n",
      "  }\n",
      "}\n"
     ]
    },
    {
     "data": {
      "text/plain": [
       " \n",
       "Женщина, 29 лет, родилась 2 марта 1987 \n",
       "-------  --               - ----- ---- \n",
       " \n",
       "Проживает: Вологда \n",
       "Гражданство: Россия, есть разрешение на работу: Россия \n",
       "             ------                             ------ \n",
       "Не готова к переезду, не готова к командировкам \n",
       "--------------------  ------------------------- \n",
       " \n",
       "Желаемая должность и зарплата \n",
       "Продавец-консультант \n",
       "---------------------\n",
       "Продажи \n",
       "------- \n",
       " \n",
       "• Розничная торговля \n",
       "  ------------------ \n",
       "• Торговые сети \n",
       "  ------------- \n",
       "• Продавец в магазине \n",
       "  ------------------- \n",
       " \n",
       "Занятость: полная занятость \n",
       "           ---------------- \n",
       "График работы: полный день \n",
       "               ----------- \n",
       "Желательное время в пути до работы: не имеет значения \n",
       "                                    ----------------- \n",
       " \n",
       "24 000 \n",
       "------ \n",
       "руб. \n",
       "---- \n",
       " \n",
       "Опыт работы — 1 год 9 месяцев \n",
       "Ноябрь 2014 — \n",
       "Июль 2016 \n",
       "1 год 9 месяцев \n",
       " \n",
       "ООО\"Келли Сервисез Си-Ай-эс\" опыт работы 2 года, \n",
       "Вологда \n",
       " \n",
       "Специалист по работе с клиентами \n",
       "обработка входящих вызовов,консультация абонентов по продуктам \n",
       "компании \n",
       " \n",
       "Образование \n",
       "Среднее специальное \n",
       " \n",
       "2008 проффессионнальное у\n"
      ]
     },
     "metadata": {},
     "output_type": "display_data"
    },
    {
     "name": "stdout",
     "output_type": "stream",
     "text": [
      "{\n",
      "  \"gender\": \"female\",\n",
      "  \"age\": 29,\n",
      "  \"birth\": {\n",
      "    \"year\": 1987,\n",
      "    \"month\": 3,\n",
      "    \"day\": 2\n",
      "  },\n",
      "  \"citizenship\": [\n",
      "    \"Россия\"\n",
      "  ],\n",
      "  \"permission\": [\n",
      "    \"Россия\"\n",
      "  ],\n",
      "  \"relocation\": {\n",
      "    \"ready\": false,\n",
      "    \"where\": []\n",
      "  },\n",
      "  \"travel\": false,\n",
      "  \"position\": \"Продавец-консультант Продажи\",\n",
      "  \"subspecializations\": [\n",
      "    \"Розничная торговля\",\n",
      "    \"Торговые сети\",\n",
      "    \"Продавец в магазине\"\n",
      "  ],\n",
      "  \"employment\": \"full\",\n",
      "  \"schedule\": \"full\",\n",
      "  \"commute\": \"any\",\n",
      "  \"salary\": {\n",
      "    \"amount\": 24000,\n",
      "    \"currency\": \"RUB\"\n",
      "  }\n",
      "}\n"
     ]
    },
    {
     "data": {
      "text/plain": [
       " \n",
       "Мужчина, 34 года, родился 14 августа 1982 \n",
       "-------  --               -- ------- ---- \n",
       " \n",
       "Проживает: Новосибирск, м. площадь Карла Маркса \n",
       "Гражданство: Россия, есть разрешение на работу: Россия \n",
       "             ------                             ------ \n",
       "Не готов к переезду, готов к командировкам \n",
       "-------------------  --------------------- \n",
       " \n",
       "Желаемая должность и зарплата \n",
       "Инженер по строительству  сотовой связи \n",
       "----------------------------------------\n",
       "Информационные технологии, интернет, телеком \n",
       "-------------------------------------------- \n",
       " \n",
       "• Передача данных и доступ в интернет \n",
       "  ----------------------------------- \n",
       "• Сотовые, Беспроводные технологии \n",
       "  -------------------------------- \n",
       "• Телекоммуникации \n",
       "  ---------------- \n",
       " \n",
       "Занятость: полная занятость, частичная занятость \n",
       "                             ------------------- \n",
       "График работы: полный день \n",
       "               ----------- \n",
       "Желательное время в пути до работы: не более часа \n",
       "                                    ------------- \n",
       " \n",
       "40 000 \n",
       "------ \n",
       "руб. \n",
       "---- \n",
       " \n",
       "Опыт работы — 10 лет 11 месяцев \n",
       "Октябрь 2014 — \n",
       "Июнь 2015 \n",
       "9 месяцев \n",
       " \n",
       "кратковременная работа в области электроники \n",
       "Новосибирск \n",
       " \n",
       "Инженер \n",
       "электронное оборудование (\n"
      ]
     },
     "metadata": {},
     "output_type": "display_data"
    },
    {
     "name": "stdout",
     "output_type": "stream",
     "text": [
      "{\n",
      "  \"gender\": \"male\",\n",
      "  \"age\": 34,\n",
      "  \"birth\": {\n",
      "    \"year\": 1982,\n",
      "    \"month\": 8,\n",
      "    \"day\": 14\n",
      "  },\n",
      "  \"citizenship\": [\n",
      "    \"Россия\"\n",
      "  ],\n",
      "  \"permission\": [\n",
      "    \"Россия\"\n",
      "  ],\n",
      "  \"relocation\": {\n",
      "    \"ready\": false,\n",
      "    \"where\": []\n",
      "  },\n",
      "  \"travel\": true,\n",
      "  \"position\": \"Инженер по строительству сотовой связи Информационные технологии, интернет, телеком\",\n",
      "  \"subspecializations\": [\n",
      "    \"Передача данных и доступ в интернет\",\n",
      "    \"Сотовые, Беспроводные технологии\",\n",
      "    \"Телекоммуникации\"\n",
      "  ],\n",
      "  \"employment\": \"part\",\n",
      "  \"schedule\": \"full\",\n",
      "  \"commute\": \"<1h\",\n",
      "  \"salary\": {\n",
      "    \"amount\": 40000,\n",
      "    \"currency\": \"RUB\"\n",
      "  }\n",
      "}\n"
     ]
    },
    {
     "data": {
      "text/plain": [
       " \n",
       "Женщина, 36 лет, родилась 20 апреля 1980 \n",
       "-------  --               -- ------ ---- \n",
       " \n",
       "Проживает: Йошкар-Ола \n",
       "Гражданство: Россия, есть разрешение на работу: Россия \n",
       "             ------                             ------ \n",
       "Не готова к переезду, готова к редким командировкам \n",
       "--------------------  ----------------------------- \n",
       " \n",
       "Желаемая должность и зарплата \n",
       "Главный бухгалтер, заместитель главного бухгалтера \n",
       "---------------------------------------------------\n",
       "Бухгалтерия, управленческий учет, финансы предприятия \n",
       "----------------------------------------------------- \n",
       " \n",
       "• Руководство бухгалтерией \n",
       "  ------------------------ \n",
       "Занятость: частичная занятость \n",
       "           ------------------- \n",
       "График работы: гибкий график, удаленная работа \n",
       "                              ---------------- \n",
       "Желательное время в пути до работы: не имеет значения \n",
       "                                    ----------------- \n",
       " \n",
       "10 000 \n",
       "------ \n",
       "руб. \n",
       "---- \n",
       " \n",
       "Опыт работы — 11 лет 10 месяцев \n",
       "Февраль 2014 — \n",
       "Декабрь 2015 \n",
       "1 год 11 месяцев \n",
       " \n",
       "ООО \"Инокс Групп\" \n",
       "Йошкар-Ола \n",
       " \n",
       "Главный  бухгалтер \n",
       "Бухгалтер в единственном числе на ОСНО, производство. \n",
       " \n",
       "Июль 2012 — \n",
       "Февраль 2014 \n",
       "1 год 8 мес\n"
      ]
     },
     "metadata": {},
     "output_type": "display_data"
    },
    {
     "name": "stdout",
     "output_type": "stream",
     "text": [
      "{\n",
      "  \"gender\": \"female\",\n",
      "  \"age\": 36,\n",
      "  \"birth\": {\n",
      "    \"year\": 1980,\n",
      "    \"month\": 4,\n",
      "    \"day\": 20\n",
      "  },\n",
      "  \"citizenship\": [\n",
      "    \"Россия\"\n",
      "  ],\n",
      "  \"permission\": [\n",
      "    \"Россия\"\n",
      "  ],\n",
      "  \"relocation\": {\n",
      "    \"ready\": false,\n",
      "    \"where\": []\n",
      "  },\n",
      "  \"travel\": true,\n",
      "  \"position\": \"Главный бухгалтер, заместитель главного бухгалтера Бухгалтерия, управленческий учет, финансы предприятия\",\n",
      "  \"subspecializations\": [\n",
      "    \"Руководство бухгалтерией\"\n",
      "  ],\n",
      "  \"employment\": \"part\",\n",
      "  \"schedule\": \"remote\",\n",
      "  \"commute\": \"any\",\n",
      "  \"salary\": {\n",
      "    \"amount\": 10000,\n",
      "    \"currency\": \"RUB\"\n",
      "  }\n",
      "}\n"
     ]
    },
    {
     "data": {
      "text/plain": [
       " \n",
       "Мужчина, 45 лет, родился 16 марта 1971 \n",
       "-------  --              -- ----- ---- \n",
       " \n",
       "Проживает: Тюмень \n",
       "Гражданство: Россия, есть разрешение на работу: Россия \n",
       "             ------                             ------ \n",
       "Не готов к переезду, не готов к командировкам \n",
       "-------------------  ------------------------ \n",
       " \n",
       "Желаемая должность и зарплата \n",
       "Инженер по транспорту \n",
       "----------------------\n",
       "Транспорт, логистика \n",
       "-------------------- \n",
       " \n",
       "• Автоперевозки \n",
       "  ------------- \n",
       "Занятость: полная занятость \n",
       "           ---------------- \n",
       "График работы: полный день \n",
       "               ----------- \n",
       "Желательное время в пути до работы: не имеет значения \n",
       "                                    ----------------- \n",
       " \n",
       "35 000 \n",
       "------ \n",
       "руб. \n",
       "---- \n",
       " \n",
       "Опыт работы — 20 лет 8 месяцев \n",
       "Январь 2014 — \n",
       "Октябрь 2014 \n",
       "10 месяцев \n",
       " \n",
       "ГК \"Сибнац\" ЗАО \"Сибирская комплексная экспедиция\" \n",
       "Дудинка (Красноярский край) \n",
       " \n",
       "Генеральный  директор \n",
       "Организация работы коллектива численностью более 200 чел., организация\n",
       " доставки ТМЦ и \n",
       "автотранспортной техники на буровые, строительство зимних автодорог,\n"
      ]
     },
     "metadata": {},
     "output_type": "display_data"
    },
    {
     "name": "stdout",
     "output_type": "stream",
     "text": [
      "{\n",
      "  \"gender\": \"male\",\n",
      "  \"age\": 45,\n",
      "  \"birth\": {\n",
      "    \"year\": 1971,\n",
      "    \"month\": 3,\n",
      "    \"day\": 16\n",
      "  },\n",
      "  \"citizenship\": [\n",
      "    \"Россия\"\n",
      "  ],\n",
      "  \"permission\": [\n",
      "    \"Россия\"\n",
      "  ],\n",
      "  \"relocation\": {\n",
      "    \"ready\": false,\n",
      "    \"where\": []\n",
      "  },\n",
      "  \"travel\": false,\n",
      "  \"position\": \"Инженер по транспорту Транспорт, логистика\",\n",
      "  \"subspecializations\": [\n",
      "    \"Автоперевозки\"\n",
      "  ],\n",
      "  \"employment\": \"full\",\n",
      "  \"schedule\": \"full\",\n",
      "  \"commute\": \"any\",\n",
      "  \"salary\": {\n",
      "    \"amount\": 35000,\n",
      "    \"currency\": \"RUB\"\n",
      "  }\n",
      "}\n"
     ]
    },
    {
     "data": {
      "text/plain": [
       " \n",
       "Женщина, 38 лет, родилась 2 мая 1978 \n",
       "-------  --               - --- ---- \n",
       " \n",
       "Проживает: Туапсе \n",
       "Гражданство: Россия, есть разрешение на работу: Россия \n",
       "             ------                             ------ \n",
       "Не готова к переезду, не готова к командировкам \n",
       "--------------------  ------------------------- \n",
       " \n",
       "Желаемая должность и зарплата \n",
       "Директор магазина, заместитель директора \n",
       "-----------------------------------------\n",
       "Продажи \n",
       "------- \n",
       " \n",
       "• Розничная торговля \n",
       "  ------------------ \n",
       "• Торговые сети \n",
       "  ------------- \n",
       " \n",
       "Занятость: полная занятость \n",
       "           ---------------- \n",
       "График работы: полный день \n",
       "               ----------- \n",
       "Желательное время в пути до работы: не более часа \n",
       "                                    ------------- \n",
       " \n",
       "40 000 \n",
       "------ \n",
       "руб. \n",
       "---- \n",
       " \n",
       "Опыт работы — 13 лет 11 месяцев \n",
       "Январь 2014 — \n",
       "настоящее время \n",
       "2 года 9 месяцев \n",
       " \n",
       "ОТ \"Сургут\" ОАО \"Сургутнефтегаз\" \n",
       "Краснодарский край \n",
       " \n",
       "Юрисконсульт \n",
       "Проверка учредительных, бухгалтерских документов контрагентов, их \n",
       "благонадежности. \n",
       "Проверка тендерной документации. Работа с программой SAP R3, \n",
       "программой п\n"
      ]
     },
     "metadata": {},
     "output_type": "display_data"
    },
    {
     "name": "stdout",
     "output_type": "stream",
     "text": [
      "{\n",
      "  \"gender\": \"female\",\n",
      "  \"age\": 38,\n",
      "  \"birth\": {\n",
      "    \"year\": 1978,\n",
      "    \"month\": 5,\n",
      "    \"day\": 2\n",
      "  },\n",
      "  \"citizenship\": [\n",
      "    \"Россия\"\n",
      "  ],\n",
      "  \"permission\": [\n",
      "    \"Россия\"\n",
      "  ],\n",
      "  \"relocation\": {\n",
      "    \"ready\": false,\n",
      "    \"where\": []\n",
      "  },\n",
      "  \"travel\": false,\n",
      "  \"position\": \"Директор магазина, заместитель директора Продажи\",\n",
      "  \"subspecializations\": [\n",
      "    \"Розничная торговля\",\n",
      "    \"Торговые сети\"\n",
      "  ],\n",
      "  \"employment\": \"full\",\n",
      "  \"schedule\": \"full\",\n",
      "  \"commute\": \"<1h\",\n",
      "  \"salary\": {\n",
      "    \"amount\": 40000,\n",
      "    \"currency\": \"RUB\"\n",
      "  }\n",
      "}\n"
     ]
    },
    {
     "data": {
      "text/plain": [
       " \n",
       "Женщина, 33 года, родилась 5 октября 1982 \n",
       "-------  --                - ------- ---- \n",
       " \n",
       "Проживает: Нефтеюганск \n",
       "Гражданство: Россия, есть разрешение на работу: Россия \n",
       "             ------                             ------ \n",
       "Не готова к переезду, не готова к командировкам \n",
       "--------------------  ------------------------- \n",
       " \n",
       "Желаемая должность и зарплата \n",
       "Лаборант химического анализа \n",
       "-----------------------------\n",
       "Добыча сырья \n",
       "------------ \n",
       " \n",
       "• Нефть \n",
       "  ----- \n",
       "• Газ \n",
       "  --- \n",
       " \n",
       "Занятость: полная занятость \n",
       "           ---------------- \n",
       "График работы: полный день \n",
       "               ----------- \n",
       "Желательное время в пути до работы: не имеет значения \n",
       "                                    ----------------- \n",
       " \n",
       "35 000 \n",
       "------ \n",
       "руб. \n",
       "---- \n",
       " \n",
       "Опыт работы — 9 лет 6 месяцев \n",
       "Июнь 2014 — \n",
       "Октябрь 2015 \n",
       "1 год 5 месяцев \n",
       " \n",
       "РН-Юганскнефтегаз, ООО \n",
       "Россия, www.yungjsc.com/ \n",
       " \n",
       "Лаборант химического анализа \n",
       "Знание правил по проведению хим. Анализов; Проведение качественного и \n",
       "количественного \n",
       "анализа проб питьевой воды (гравиметрическим, титриметрическим и \n",
       "фотометрическим \n",
       "м\n"
      ]
     },
     "metadata": {},
     "output_type": "display_data"
    },
    {
     "name": "stdout",
     "output_type": "stream",
     "text": [
      "{\n",
      "  \"gender\": \"female\",\n",
      "  \"age\": 33,\n",
      "  \"birth\": {\n",
      "    \"year\": 1982,\n",
      "    \"month\": 10,\n",
      "    \"day\": 5\n",
      "  },\n",
      "  \"citizenship\": [\n",
      "    \"Россия\"\n",
      "  ],\n",
      "  \"permission\": [\n",
      "    \"Россия\"\n",
      "  ],\n",
      "  \"relocation\": {\n",
      "    \"ready\": false,\n",
      "    \"where\": []\n",
      "  },\n",
      "  \"travel\": false,\n",
      "  \"position\": \"Лаборант химического анализа Добыча сырья\",\n",
      "  \"subspecializations\": [\n",
      "    \"Нефть\",\n",
      "    \"Газ\"\n",
      "  ],\n",
      "  \"employment\": \"full\",\n",
      "  \"schedule\": \"full\",\n",
      "  \"commute\": \"any\",\n",
      "  \"salary\": {\n",
      "    \"amount\": 35000,\n",
      "    \"currency\": \"RUB\"\n",
      "  }\n",
      "}\n"
     ]
    },
    {
     "data": {
      "text/plain": [
       " \n",
       "Женщина, 26 лет, родилась 15 апреля 1990 \n",
       "-------  --               -- ------ ---- \n",
       " \n",
       "Проживает: Москва \n",
       "Гражданство: Россия, есть разрешение на работу: Россия \n",
       "             ------                             ------ \n",
       "Не готова к переезду, не готова к командировкам \n",
       "--------------------  ------------------------- \n",
       " \n",
       "Желаемая должность и зарплата \n",
       "Администратор;  Помощник бухгалтера \n",
       "------------------------------------\n",
       "Бухгалтерия, управленческий учет, финансы предприятия \n",
       "----------------------------------------------------- \n",
       " \n",
       "• Учет счетов и платежей \n",
       "  ---------------------- \n",
       "• Казначейство \n",
       "  ------------ \n",
       "• Кассир, Инкассатор \n",
       "  ------------------ \n",
       " \n",
       "Занятость: полная занятость \n",
       "           ---------------- \n",
       "График работы: полный день \n",
       "               ----------- \n",
       "Желательное время в пути до работы: не имеет значения \n",
       "                                    ----------------- \n",
       " \n",
       "35 000 \n",
       "------ \n",
       "руб. \n",
       "---- \n",
       " \n",
       "Опыт работы — 7 лет 1 месяц \n",
       "Сентябрь 2012 — \n",
       "Сентябрь 2015 \n",
       "3 года 1 месяц \n",
       " \n",
       "Монэ, ООО \n",
       "Москва \n",
       " \n",
       "Кассир, Инструктор по обучению кассиров в кассовой группе \n",
       "бухгалтерии предприятия \n",
       "Основные обязанности: обучение и консультирование касси\n"
      ]
     },
     "metadata": {},
     "output_type": "display_data"
    },
    {
     "name": "stdout",
     "output_type": "stream",
     "text": [
      "{\n",
      "  \"gender\": \"female\",\n",
      "  \"age\": 26,\n",
      "  \"birth\": {\n",
      "    \"year\": 1990,\n",
      "    \"month\": 4,\n",
      "    \"day\": 15\n",
      "  },\n",
      "  \"citizenship\": [\n",
      "    \"Россия\"\n",
      "  ],\n",
      "  \"permission\": [\n",
      "    \"Россия\"\n",
      "  ],\n",
      "  \"relocation\": {\n",
      "    \"ready\": false,\n",
      "    \"where\": []\n",
      "  },\n",
      "  \"travel\": false,\n",
      "  \"position\": \"Администратор; Помощник бухгалтера Бухгалтерия, управленческий учет, финансы предприятия\",\n",
      "  \"subspecializations\": [\n",
      "    \"Учет счетов и платежей\",\n",
      "    \"Казначейство\",\n",
      "    \"Кассир, Инкассатор\"\n",
      "  ],\n",
      "  \"employment\": \"full\",\n",
      "  \"schedule\": \"full\",\n",
      "  \"commute\": \"any\",\n",
      "  \"salary\": {\n",
      "    \"amount\": 35000,\n",
      "    \"currency\": \"RUB\"\n",
      "  }\n",
      "}\n"
     ]
    },
    {
     "data": {
      "text/plain": [
       " \n",
       "Женщина, 29 лет, родилась 14 мая 1987 \n",
       "-------  --               -- --- ---- \n",
       " \n",
       "Проживает: Псков \n",
       "Гражданство: Россия, есть разрешение на работу: Россия \n",
       "             ------                             ------ \n",
       "Не готова к переезду, готова к редким командировкам \n",
       "--------------------  ----------------------------- \n",
       " \n",
       "Желаемая должность и зарплата \n",
       "мастер кузовного цеха \n",
       "----------------------\n",
       "Автомобильный бизнес \n",
       "-------------------- \n",
       " \n",
       "• Сервисное обслуживание \n",
       "  ---------------------- \n",
       "• Автозапчасти \n",
       "  ------------ \n",
       "• Автожестянщик \n",
       "  ------------- \n",
       " \n",
       "Занятость: полная занятость \n",
       "           ---------------- \n",
       "График работы: полный день \n",
       "               ----------- \n",
       "Желательное время в пути до работы: не имеет значения \n",
       "                                    ----------------- \n",
       " \n",
       "30 000 \n",
       "------ \n",
       "руб. \n",
       "---- \n",
       " \n",
       "Опыт работы — 8 лет 7 месяцев \n",
       "Март 2008 — \n",
       "настоящее время \n",
       "8 лет 7 месяцев \n",
       " \n",
       "ООО \"Автопремиум\" \n",
       "Псков \n",
       " \n",
       "Руководитель МКЦ \n",
       "Контроль качество Кузовного ремонта организация работы, работа с \n",
       "клиентами  работа с \n",
       "Государственными страховыми компаниями подбор запчастей \n",
       " \n",
       "Ключевые навыки \n",
       "Знание\n"
      ]
     },
     "metadata": {},
     "output_type": "display_data"
    },
    {
     "name": "stdout",
     "output_type": "stream",
     "text": [
      "{\n",
      "  \"gender\": \"female\",\n",
      "  \"age\": 29,\n",
      "  \"birth\": {\n",
      "    \"year\": 1987,\n",
      "    \"month\": 5,\n",
      "    \"day\": 14\n",
      "  },\n",
      "  \"citizenship\": [\n",
      "    \"Россия\"\n",
      "  ],\n",
      "  \"permission\": [\n",
      "    \"Россия\"\n",
      "  ],\n",
      "  \"relocation\": {\n",
      "    \"ready\": false,\n",
      "    \"where\": []\n",
      "  },\n",
      "  \"travel\": true,\n",
      "  \"position\": \"мастер кузовного цеха Автомобильный бизнес\",\n",
      "  \"subspecializations\": [\n",
      "    \"Сервисное обслуживание\",\n",
      "    \"Автозапчасти\",\n",
      "    \"Автожестянщик\"\n",
      "  ],\n",
      "  \"employment\": \"full\",\n",
      "  \"schedule\": \"full\",\n",
      "  \"commute\": \"any\",\n",
      "  \"salary\": {\n",
      "    \"amount\": 30000,\n",
      "    \"currency\": \"RUB\"\n",
      "  }\n",
      "}\n"
     ]
    }
   ],
   "source": [
    "INTRO = rule(\n",
    "    SOCDEM,\n",
    "    LIVES_AT,\n",
    "    CITIZENSHIP, COMMA, PERMISSION,\n",
    "    RELOCATION, COMMA, TRAVEL,\n",
    "    POSITION,\n",
    "    EMPLOYMENT,\n",
    "    SCHEDULE,\n",
    "    COMMUTE,\n",
    "    MONEY\n",
    ").interpretation(\n",
    "    Intro\n",
    ")\n",
    "\n",
    "\n",
    "parser = Parser(INTRO, tokenizer=TOKENIZER)\n",
    "seed(10)\n",
    "for text in sample(intros, 10):\n",
    "    matches = list(parser.findall(text))\n",
    "    if matches:\n",
    "        match = matches[0]\n",
    "        fact = match.fact\n",
    "        show_markup(text, fact.spans)\n",
    "        show_json(fact.as_json)"
   ]
  },
  {
   "cell_type": "code",
   "execution_count": null,
   "metadata": {},
   "outputs": [],
   "source": []
  }
 ],
 "metadata": {
  "kernelspec": {
   "display_name": "Python 3",
   "language": "python",
   "name": "python3"
  },
  "language_info": {
   "codemirror_mode": {
    "name": "ipython",
    "version": 3
   },
   "file_extension": ".py",
   "mimetype": "text/x-python",
   "name": "python",
   "nbconvert_exporter": "python",
   "pygments_lexer": "ipython3",
   "version": "3.5.1"
  }
 },
 "nbformat": 4,
 "nbformat_minor": 2
}
