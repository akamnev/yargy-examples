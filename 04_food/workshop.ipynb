{
 "cells": [
  {
   "cell_type": "markdown",
   "metadata": {},
   "source": [
    "# Data"
   ]
  },
  {
   "cell_type": "markdown",
   "metadata": {},
   "source": [
    "- https://vk.com/u_samovaraa?w=wall-81871567_61842\n",
    "- https://vk.com/vkys_nos?w=wall-41960737_13333\n",
    "- https://vk.com/receptik_kulinar?w=wall-59496329_52708\n",
    "- https://vk.com/lisimnik_cake?w=wall-82240292_25648\n",
    "- https://vk.com/kingcook?w=wall-59442940_11047\n",
    "- https://vk.com/u_samovaraa?w=wall-81871567_61917\n",
    "- https://vk.com/quickrecipes?w=wall-61337543_5892\n",
    "- https://vk.com/namenuru?w=wall-36303114_56579\n",
    "- https://vk.com/vegan_cookbook?w=wall-43818640_25903\n",
    "- https://vk.com/multivarka_cook?w=wall-51300483_11948"
   ]
  },
  {
   "cell_type": "code",
   "execution_count": 12,
   "metadata": {},
   "outputs": [],
   "source": [
    "from glob import iglob as list_paths\n",
    "\n",
    "\n",
    "def load_text(path):\n",
    "    with open(path) as file:\n",
    "        return file.read()\n",
    "\n",
    "\n",
    "texts = [\n",
    "    load_text(_)\n",
    "    for _ in list_paths('texts/*.txt')\n",
    "]"
   ]
  },
  {
   "cell_type": "code",
   "execution_count": 13,
   "metadata": {},
   "outputs": [],
   "source": [
    "def make_translation(source, target):\n",
    "    assert len(source) == len(target)\n",
    "    return {\n",
    "        ord(a): ord(b)\n",
    "        for a, b in zip(source, target)\n",
    "    }\n",
    "\n",
    "\n",
    "DASHES_TRANSLATION = make_translation(\n",
    "    '‑–—−',\n",
    "    '----'\n",
    ")\n",
    "\n",
    "\n",
    "def preprocess(text):\n",
    "    text = text.replace('\\xa0', ' ')\n",
    "    text = text.replace('\\xad', '')\n",
    "    text = text.translate(DASHES_TRANSLATION)\n",
    "    return text\n",
    "\n",
    "\n",
    "texts = [preprocess(_) for _ in texts]"
   ]
  },
  {
   "cell_type": "code",
   "execution_count": 14,
   "metadata": {},
   "outputs": [
    {
     "name": "stdout",
     "output_type": "stream",
     "text": [
      "Салат с ананасами и курицей 🍍\n",
      "\n",
      "Ингредиенты:\n",
      "\n",
      "● Филе куриной грудки 1 шт.\n",
      "● Шампиньоны 300 г\n",
      "● Кукуруза консервированная 1 банка\n",
      "● Сыр 200 г\n",
      "● Лук репчатый 1 головка\n",
      "● Чеснок 2 зубчика\n",
      "● Ананас консервированный 1 банка\n",
      "● Майонез по вкусу\n",
      "\n",
      "Приготовление:\n",
      "\n",
      "1. Обжарить грибы с луком с добавить немного соли. Старайтесь не резать грибы слишком мелко.\n",
      "2. Отварить куриную грудку без кожи, нарезать кусочками и добавить к ней консервированную кукурузу.\n",
      "3. Сыр также нарезать маленькими кубиками или натереть на крупной терке. Добавить к курице с кукурузой.\n",
      "4. Смешать все ингредиенты с консервированным ананасом и заправить салат майонезом с чесноком.\n",
      "\n",
      "Приятного аппетита!\n"
     ]
    }
   ],
   "source": [
    "print(texts[0])"
   ]
  },
  {
   "cell_type": "code",
   "execution_count": 15,
   "metadata": {},
   "outputs": [],
   "source": [
    "import re\n",
    "\n",
    "\n",
    "def find_ingredient_sections(text):\n",
    "    return re.findall(r'ингредиенты:(.+?)приготовление', text, re.I | re.S)\n",
    "\n",
    "\n",
    "\n",
    "def maybe_ingredient(line):\n",
    "    match = re.search(r'\\d', line)\n",
    "    size = len(line) <= 50\n",
    "    return match and size\n",
    "\n",
    "\n",
    "lines = []\n",
    "for text in texts:\n",
    "    sections = find_ingredient_sections(text)\n",
    "    for section in sections:\n",
    "        for line in section.splitlines():\n",
    "            if maybe_ingredient(line):\n",
    "                lines.append(line)"
   ]
  },
  {
   "cell_type": "code",
   "execution_count": 16,
   "metadata": {},
   "outputs": [
    {
     "data": {
      "text/plain": [
       "['-1 луковица ',\n",
       " '1 стакан муки',\n",
       " '2 яйца',\n",
       " 'Соль - 2 ст.ложки',\n",
       " '-100 грамм сыра ',\n",
       " 'вишни морож.3 горсти,',\n",
       " 'Перец болгарский - 3 Штуки',\n",
       " 'сок 1/2 лимона ',\n",
       " '1 репчатый лук ',\n",
       " 'соль - 1 Чайная ложка (для теста) ',\n",
       " '● Растительное масло 1 ст.л.',\n",
       " 'Сыр твердый - 4 ст. л.',\n",
       " '100 г сливочного масла,',\n",
       " '1 зубчик чеснока',\n",
       " '● салями 100 г ',\n",
       " '-Огурец - 1 шт.',\n",
       " 'растительное масло - 3 ст. ложки ',\n",
       " '4 средних спелых банана',\n",
       " 'Кинза 2 г ',\n",
       " 'Репчатый лук - 2 Штуки (среднего размера)']"
      ]
     },
     "execution_count": 16,
     "metadata": {},
     "output_type": "execute_result"
    }
   ],
   "source": [
    "from random import seed, sample\n",
    "\n",
    "seed(1)\n",
    "sample(lines, 20)"
   ]
  },
  {
   "cell_type": "code",
   "execution_count": 17,
   "metadata": {},
   "outputs": [
    {
     "data": {
      "text/plain": [
       "4054"
      ]
     },
     "execution_count": 17,
     "metadata": {},
     "output_type": "execute_result"
    }
   ],
   "source": [
    "len(lines)"
   ]
  },
  {
   "cell_type": "markdown",
   "metadata": {},
   "source": [
    "# Grammar"
   ]
  },
  {
   "cell_type": "code",
   "execution_count": 61,
   "metadata": {},
   "outputs": [
    {
     "data": {
      "text/plain": [
       "[MorphToken('рулетики',\n",
       "            [0, 8),\n",
       "            'RU',\n",
       "            [Form('рулетик', Grams(NOUN,inan,masc,nomn,plur)),\n",
       "             Form('рулетик', Grams(NOUN,accs,inan,masc,plur)),\n",
       "             Form('рулетик', Grams(NOUN,inan,masc,nomn,plur)),\n",
       "             Form('рулетик', Grams(NOUN,accs,inan,masc,plur)),\n",
       "             Form('рулётик', Grams(NOUN,inan,masc,nomn,plur)),\n",
       "             Form('рулётик', Grams(NOUN,accs,inan,masc,plur))])]"
      ]
     },
     "execution_count": 61,
     "metadata": {},
     "output_type": "execute_result"
    }
   ],
   "source": [
    "from yargy.tokenizer import MorphTokenizer\n",
    "\n",
    "TOKENIZER = MorphTokenizer()\n",
    "list(TOKENIZER('рулетики'))"
   ]
  },
  {
   "cell_type": "code",
   "execution_count": 63,
   "metadata": {
    "scrolled": false
   },
   "outputs": [],
   "source": [
    "# %run -n main.py\n",
    "# parser = Parser(INGREDIENT)\n",
    "# seed(1)\n",
    "# for line in sample(lines, 100):\n",
    "#     matches = list(parser.findall(line))\n",
    "#     spans = [_.span for _ in matches]\n",
    "#     show_markup(line, spans)\n",
    "# #     if matches:\n",
    "# #         match = matches[0]\n",
    "# #         display(match.tree.as_dot)\n",
    "# #         display(match.fact)"
   ]
  },
  {
   "cell_type": "code",
   "execution_count": null,
   "metadata": {},
   "outputs": [],
   "source": []
  }
 ],
 "metadata": {
  "kernelspec": {
   "display_name": "Python 3",
   "language": "python",
   "name": "python3"
  },
  "language_info": {
   "codemirror_mode": {
    "name": "ipython",
    "version": 3
   },
   "file_extension": ".py",
   "mimetype": "text/x-python",
   "name": "python",
   "nbconvert_exporter": "python",
   "pygments_lexer": "ipython3",
   "version": "3.5.1"
  }
 },
 "nbformat": 4,
 "nbformat_minor": 2
}
